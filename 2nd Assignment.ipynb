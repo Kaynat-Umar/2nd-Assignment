{
 "cells": [
  {
   "cell_type": "code",
   "execution_count": 1,
   "id": "255499c9",
   "metadata": {},
   "outputs": [
    {
     "name": "stdout",
     "output_type": "stream",
     "text": [
      "Guess the secret number (between 1 and 50): 26\n",
      "Try again! Your guess is too low.\n",
      "Guess the secret number (between 1 and 50): 35\n",
      "Try again! Your guess is too low.\n",
      "Guess the secret number (between 1 and 50): 45\n",
      "Try again! Your guess is too high.\n",
      "Guess the secret number (between 1 and 50): 40\n",
      "Try again! Your guess is too low.\n",
      "Guess the secret number (between 1 and 50): 42\n",
      "Try again! Your guess is too low.\n",
      "Game Over! The secret number was 43. Better luck next time.\n"
     ]
    }
   ],
   "source": [
    "# You are creating a Python program to simulate a simple guessing game. \n",
    "\n",
    "\n",
    "from random import randint\n",
    "\n",
    "secret_number = randint(1, 50)\n",
    "attempts = 5\n",
    "\n",
    "for _ in range(attempts):\n",
    "    try:\n",
    "        guess = int(input(\"Guess the secret number (between 1 and 50): \"))\n",
    "    except ValueError:\n",
    "        print(\"Invalid input! Please enter a valid number.\")\n",
    "        continue\n",
    "\n",
    "    if guess == secret_number:\n",
    "        print(f\"Congratulations! You guessed the secret number {secret_number} correctly.\")\n",
    "        break\n",
    "    elif guess > secret_number:\n",
    "        print(f\"Try again! Your guess is too high.\")\n",
    "    else:\n",
    "        print(f\"Try again! Your guess is too low.\")\n",
    "else:\n",
    "    print(f\"Game Over! The secret number was {secret_number}. Better luck next time.\")"
   ]
  },
  {
   "cell_type": "code",
   "execution_count": 3,
   "id": "cf1d9176",
   "metadata": {},
   "outputs": [
    {
     "name": "stdout",
     "output_type": "stream",
     "text": [
      "The number of vowels in the string is: 10\n"
     ]
    }
   ],
   "source": [
    "# Write a function called num_vowels that takes in a string as an argument, and returns the\n",
    "# number of vowels in that string. Print out the result for the string “Learning Python is fun\n",
    "# and engaging.”\n",
    "\n",
    "\n",
    "def num_vowels(input_string):\n",
    "    vowels = \"AEIOUaeiou\"\n",
    "    count = 0\n",
    "    for char in input_string:\n",
    "        if char in vowels:\n",
    "            count += 1\n",
    "    return count\n",
    "\n",
    "input_string = \"Learning Python is fun and engaging.\"\n",
    "vowel_count = num_vowels(input_string)\n",
    "print(f\"The number of vowels in the string is: {vowel_count}\")"
   ]
  },
  {
   "cell_type": "code",
   "execution_count": 4,
   "id": "929fcbb6",
   "metadata": {},
   "outputs": [
    {
     "name": "stdout",
     "output_type": "stream",
     "text": [
      "2.5 hours is equal to 150.0 minutes.\n"
     ]
    }
   ],
   "source": [
    "# Create a function called hours_to_min that converts hours into minutes. The function\n",
    "# should take the number of hours as input and return the equivalent number of minutes.\n",
    "# Test the function with 2.5 hours and print the result.\n",
    "\n",
    "def hours_to_min(hours):\n",
    "    minutes = hours * 60\n",
    "    return minutes\n",
    "\n",
    "# Test the function with 2.5 hours\n",
    "hours_input = 2.5\n",
    "minutes_output = hours_to_min(hours_input)\n",
    "print(f\"{hours_input} hours is equal to {minutes_output} minutes.\")"
   ]
  },
  {
   "cell_type": "code",
   "execution_count": 5,
   "id": "3d99d0f0",
   "metadata": {},
   "outputs": [
    {
     "name": "stdout",
     "output_type": "stream",
     "text": [
      "5 x 1 = 5\n",
      "5 x 2 = 10\n",
      "5 x 3 = 15\n",
      "5 x 4 = 20\n",
      "5 x 5 = 25\n",
      "5 x 6 = 30\n",
      "5 x 7 = 35\n",
      "5 x 8 = 40\n",
      "5 x 9 = 45\n",
      "5 x 10 = 50\n",
      "5 x 11 = 55\n",
      "5 x 12 = 60\n"
     ]
    }
   ],
   "source": [
    "# Write a python function that takes in a number as an argument, and prints out the table of\n",
    "# that number up to 12 times that number.\n",
    "\n",
    "def print_multiplication_table(number):\n",
    "    for i in range(1, 13):\n",
    "        result = number * i\n",
    "        print(f\"{number} x {i} = {result}\")\n",
    "\n",
    "# Test the function with a number, for example, 5\n",
    "number_to_print_table = 5\n",
    "print_multiplication_table(number_to_print_table)"
   ]
  },
  {
   "cell_type": "code",
   "execution_count": 6,
   "id": "a4e20c4b",
   "metadata": {},
   "outputs": [
    {
     "name": "stdout",
     "output_type": "stream",
     "text": [
      "Result 1: True\n",
      "Result 2: False\n"
     ]
    }
   ],
   "source": [
    "# Turn that code into a function called eligibility. The function should take two\n",
    "# arguments: the student&#39;s age and their previous GPA. The eligibility criteria are as follows:\n",
    "# - The student must be at least 18 years old.\n",
    "# - The student&#39;s previous GPA must be 3.0 or higher on a scale of 4.0.\n",
    "# The function should return True if the student meets both criteria, otherwise, return False.\n",
    "# Test the function with different ages and GPAs with and without keywords for example:\n",
    "# eligibility(30, 3.2) [will depend on which order you provided the positional arguments in the definition]\n",
    "# eligibility(GPA = 2.9, age = 40)\n",
    "\n",
    "\n",
    "\n",
    "def eligibility(age, GPA):\n",
    "    if age >= 18 and GPA >= 3.0:\n",
    "        return True\n",
    "    else:\n",
    "        return False\n",
    "\n",
    "# Test the function with different ages and GPAs\n",
    "result1 = eligibility(30, 3.2)\n",
    "result2 = eligibility(GPA=2.9, age=40)\n",
    "\n",
    "print(f\"Result 1: {result1}\")\n",
    "print(f\"Result 2: {result2}\")"
   ]
  },
  {
   "cell_type": "code",
   "execution_count": null,
   "id": "49e0dd77",
   "metadata": {},
   "outputs": [],
   "source": []
  }
 ],
 "metadata": {
  "kernelspec": {
   "display_name": "Python 3 (ipykernel)",
   "language": "python",
   "name": "python3"
  },
  "language_info": {
   "codemirror_mode": {
    "name": "ipython",
    "version": 3
   },
   "file_extension": ".py",
   "mimetype": "text/x-python",
   "name": "python",
   "nbconvert_exporter": "python",
   "pygments_lexer": "ipython3",
   "version": "3.11.5"
  }
 },
 "nbformat": 4,
 "nbformat_minor": 5
}
